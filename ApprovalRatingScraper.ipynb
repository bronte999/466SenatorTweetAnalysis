{
 "cells": [
  {
   "cell_type": "code",
   "execution_count": 39,
   "metadata": {},
   "outputs": [],
   "source": [
    "from bs4 import BeautifulSoup\n",
    "import pandas as pd"
   ]
  },
  {
   "cell_type": "code",
   "execution_count": 8,
   "metadata": {},
   "outputs": [],
   "source": [
    "rankings = open(\"rankings.html\", \"r\").read()\n",
    "soup = BeautifulSoup(rankings, 'html.parser')\n",
    "\n"
   ]
  },
  {
   "cell_type": "code",
   "execution_count": 25,
   "metadata": {},
   "outputs": [
    {
     "data": {
      "text/plain": [
       "100"
      ]
     },
     "execution_count": 25,
     "metadata": {},
     "output_type": "execute_result"
    }
   ],
   "source": [
    "raw_senators = soup.find_all(class_=\"sortable__list\")[0].find_all(\"li\")\n",
    "\n",
    "len(raw_senators)"
   ]
  },
  {
   "cell_type": "code",
   "execution_count": 56,
   "metadata": {},
   "outputs": [],
   "source": [
    "senator_dict = []\n",
    "\n",
    "for senators in raw_senators:\n",
    "    # print(senators)\n",
    "    \n",
    "    name = senators.find_all(class_=\"ranking__name\")[0].text.strip()[:-6].strip()\n",
    "    positive = senators.find_all(class_=\"ranking__positive\")[0].text.strip()\n",
    "    neutral = senators.find_all(class_=\"ranking__neutral\")[0].text.strip()\n",
    "    negative = senators.find_all(class_=\"ranking__negative\")[0].text.strip()\n",
    "    \n",
    "    # print(name, neutral, positive, negative)\n",
    "    \n",
    "    senator_dict.append([name, positive, neutral, negative])"
   ]
  },
  {
   "cell_type": "code",
   "execution_count": 60,
   "metadata": {},
   "outputs": [],
   "source": [
    "pd.DataFrame(senator_dict, columns=['Name', 'Positive', 'Neutral', 'Negative']).to_csv(\"senators.csv\")"
   ]
  }
 ],
 "metadata": {
  "kernelspec": {
   "display_name": "Python 3",
   "language": "python",
   "name": "python3"
  },
  "language_info": {
   "codemirror_mode": {
    "name": "ipython",
    "version": 3
   },
   "file_extension": ".py",
   "mimetype": "text/x-python",
   "name": "python",
   "nbconvert_exporter": "python",
   "pygments_lexer": "ipython3",
   "version": "3.7.3"
  }
 },
 "nbformat": 4,
 "nbformat_minor": 4
}
